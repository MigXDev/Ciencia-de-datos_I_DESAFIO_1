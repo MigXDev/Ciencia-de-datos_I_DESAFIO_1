{
  "cells": [
    {
      "cell_type": "markdown",
      "metadata": {
        "id": "RhEdWd9YUR6H"
      },
      "source": [
        "### Importación de datos\n",
        "\n"
      ]
    },
    {
      "cell_type": "code",
      "execution_count": 10,
      "metadata": {
        "colab": {
          "base_uri": "https://localhost:8080/",
          "height": 206
        },
        "id": "T3EvaeQ_INIL",
        "outputId": "e9c5efe1-82a3-43ab-e8d7-6d01e4fa3514"
      },
      "outputs": [
        {
          "data": {
            "text/html": [
              "<div>\n",
              "<style scoped>\n",
              "    .dataframe tbody tr th:only-of-type {\n",
              "        vertical-align: middle;\n",
              "    }\n",
              "\n",
              "    .dataframe tbody tr th {\n",
              "        vertical-align: top;\n",
              "    }\n",
              "\n",
              "    .dataframe thead th {\n",
              "        text-align: right;\n",
              "    }\n",
              "</style>\n",
              "<table border=\"1\" class=\"dataframe\">\n",
              "  <thead>\n",
              "    <tr style=\"text-align: right;\">\n",
              "      <th></th>\n",
              "      <th>Producto</th>\n",
              "      <th>Categoría del Producto</th>\n",
              "      <th>Precio</th>\n",
              "      <th>Costo de envío</th>\n",
              "      <th>Fecha de Compra</th>\n",
              "      <th>Vendedor</th>\n",
              "      <th>Lugar de Compra</th>\n",
              "      <th>Calificación</th>\n",
              "      <th>Método de pago</th>\n",
              "      <th>Cantidad de cuotas</th>\n",
              "      <th>lat</th>\n",
              "      <th>lon</th>\n",
              "    </tr>\n",
              "  </thead>\n",
              "  <tbody>\n",
              "    <tr>\n",
              "      <th>0</th>\n",
              "      <td>Asistente virtual</td>\n",
              "      <td>Electrónicos</td>\n",
              "      <td>164300.0</td>\n",
              "      <td>6900.0</td>\n",
              "      <td>16/01/2021</td>\n",
              "      <td>Pedro Gomez</td>\n",
              "      <td>Bogotá</td>\n",
              "      <td>4</td>\n",
              "      <td>Tarjeta de crédito</td>\n",
              "      <td>8</td>\n",
              "      <td>4.60971</td>\n",
              "      <td>-74.08175</td>\n",
              "    </tr>\n",
              "    <tr>\n",
              "      <th>1</th>\n",
              "      <td>Mesa de comedor</td>\n",
              "      <td>Muebles</td>\n",
              "      <td>192300.0</td>\n",
              "      <td>8400.0</td>\n",
              "      <td>18/05/2022</td>\n",
              "      <td>Beatriz Morales</td>\n",
              "      <td>Medellín</td>\n",
              "      <td>1</td>\n",
              "      <td>Tarjeta de crédito</td>\n",
              "      <td>4</td>\n",
              "      <td>6.25184</td>\n",
              "      <td>-75.56359</td>\n",
              "    </tr>\n",
              "    <tr>\n",
              "      <th>2</th>\n",
              "      <td>Juego de mesa</td>\n",
              "      <td>Juguetes</td>\n",
              "      <td>209600.0</td>\n",
              "      <td>15900.0</td>\n",
              "      <td>15/03/2021</td>\n",
              "      <td>Juan Fernandez</td>\n",
              "      <td>Cartagena</td>\n",
              "      <td>1</td>\n",
              "      <td>Tarjeta de crédito</td>\n",
              "      <td>1</td>\n",
              "      <td>10.39972</td>\n",
              "      <td>-75.51444</td>\n",
              "    </tr>\n",
              "    <tr>\n",
              "      <th>3</th>\n",
              "      <td>Microondas</td>\n",
              "      <td>Electrodomésticos</td>\n",
              "      <td>757500.0</td>\n",
              "      <td>41000.0</td>\n",
              "      <td>03/05/2022</td>\n",
              "      <td>Juan Fernandez</td>\n",
              "      <td>Cali</td>\n",
              "      <td>4</td>\n",
              "      <td>Nequi</td>\n",
              "      <td>1</td>\n",
              "      <td>3.43722</td>\n",
              "      <td>-76.52250</td>\n",
              "    </tr>\n",
              "    <tr>\n",
              "      <th>4</th>\n",
              "      <td>Silla de oficina</td>\n",
              "      <td>Muebles</td>\n",
              "      <td>335200.0</td>\n",
              "      <td>20200.0</td>\n",
              "      <td>07/11/2020</td>\n",
              "      <td>Maria Alfonso</td>\n",
              "      <td>Medellín</td>\n",
              "      <td>5</td>\n",
              "      <td>Nequi</td>\n",
              "      <td>1</td>\n",
              "      <td>6.25184</td>\n",
              "      <td>-75.56359</td>\n",
              "    </tr>\n",
              "  </tbody>\n",
              "</table>\n",
              "</div>"
            ],
            "text/plain": [
              "            Producto Categoría del Producto    Precio  Costo de envío  \\\n",
              "0  Asistente virtual           Electrónicos  164300.0          6900.0   \n",
              "1    Mesa de comedor                Muebles  192300.0          8400.0   \n",
              "2      Juego de mesa               Juguetes  209600.0         15900.0   \n",
              "3         Microondas      Electrodomésticos  757500.0         41000.0   \n",
              "4   Silla de oficina                Muebles  335200.0         20200.0   \n",
              "\n",
              "  Fecha de Compra         Vendedor Lugar de Compra  Calificación  \\\n",
              "0      16/01/2021      Pedro Gomez          Bogotá             4   \n",
              "1      18/05/2022  Beatriz Morales        Medellín             1   \n",
              "2      15/03/2021   Juan Fernandez       Cartagena             1   \n",
              "3      03/05/2022   Juan Fernandez            Cali             4   \n",
              "4      07/11/2020    Maria Alfonso        Medellín             5   \n",
              "\n",
              "       Método de pago  Cantidad de cuotas       lat       lon  \n",
              "0  Tarjeta de crédito                   8   4.60971 -74.08175  \n",
              "1  Tarjeta de crédito                   4   6.25184 -75.56359  \n",
              "2  Tarjeta de crédito                   1  10.39972 -75.51444  \n",
              "3               Nequi                   1   3.43722 -76.52250  \n",
              "4               Nequi                   1   6.25184 -75.56359  "
            ]
          },
          "execution_count": 10,
          "metadata": {},
          "output_type": "execute_result"
        }
      ],
      "source": [
        "import pandas as pd\n",
        "import matplotlib.pyplot as plt\n",
        "\n",
        "url = \"https://raw.githubusercontent.com/alura-es-cursos/challenge1-data-science-latam/refs/heads/main/base-de-datos-challenge1-latam/tienda_1%20.csv\"\n",
        "url2 = \"https://raw.githubusercontent.com/alura-es-cursos/challenge1-data-science-latam/refs/heads/main/base-de-datos-challenge1-latam/tienda_2.csv\"\n",
        "url3 = \"https://raw.githubusercontent.com/alura-es-cursos/challenge1-data-science-latam/refs/heads/main/base-de-datos-challenge1-latam/tienda_3.csv\"\n",
        "url4 = \"https://raw.githubusercontent.com/alura-es-cursos/challenge1-data-science-latam/refs/heads/main/base-de-datos-challenge1-latam/tienda_4.csv\"\n",
        "\n",
        "tienda = pd.read_csv(url)\n",
        "tienda2 = pd.read_csv(url2)\n",
        "tienda3 = pd.read_csv(url3)\n",
        "tienda4 = pd.read_csv(url4)\n",
        "\n",
        "tienda.head()"
      ]
    },
    {
      "cell_type": "markdown",
      "metadata": {
        "id": "X62IW3KFUIYm"
      },
      "source": [
        "# 1. Análisis de facturación\n",
        "\n"
      ]
    },
    {
      "cell_type": "code",
      "execution_count": 17,
      "metadata": {
        "id": "xykobSftV64I"
      },
      "outputs": [
        {
          "name": "stdout",
          "output_type": "stream",
          "text": [
            "Tienda 1: $1150880400\n",
            "Tienda 2: $1116343500\n",
            "Tienda 3: $1098019600\n",
            "Tienda 4: $1038375700\n"
          ]
        }
      ],
      "source": [
        "# En este primer análisis, debes calcular el ingreso total de cada tienda.\n",
        "# Sumando los valores de la columna Precio de cada conjunto de datos de la \n",
        "# tienda para estimar los ingresos.\n",
        "\n",
        "tiendas = {\n",
        "    \"Tienda 1\": tienda,\n",
        "    \"Tienda 2\": tienda2,\n",
        "    \"Tienda 3\": tienda3,\n",
        "    \"Tienda 4\": tienda4\n",
        "}\n",
        "\n",
        "NOMBRE_TIENDA = []\n",
        "INGRESO_TOTAL = []\n",
        "\n",
        "for nombre, datos in tiendas.items():\n",
        "    ingreso = datos[\"Precio\"].sum()\n",
        "    NOMBRE_TIENDA.append(nombre)\n",
        "    INGRESO_TOTAL.append(ingreso)\n",
        "    print(f\"{nombre}: ${ingreso:.0f}\") "
      ]
    },
    {
      "cell_type": "code",
      "execution_count": 19,
      "metadata": {
        "id": "KDyr8E71V3m-"
      },
      "outputs": [
        {
          "data": {
            "image/png": "[encoded data removed]",
            "text/plain": [
              "<Figure size 800x500 with 1 Axes>"
            ]
          },
          "metadata": {},
          "output_type": "display_data"
        }
      ],
      "source": [
        "# Convertir ingresos a millones para mostrar en eje y\n",
        "ingresos_millones = [i / 1_000_000 for i in INGRESO_TOTAL]\n",
        "\n",
        "plt.figure(figsize=(8, 5))\n",
        "barras = plt.bar(NOMBRE_TIENDA, ingresos_millones, color='skyblue')\n",
        "plt.title('Ingreso Total por Tienda')\n",
        "plt.ylabel('Ingresos (en millones de $)')\n",
        "plt.xlabel('Tiendas')\n",
        "plt.grid(axis='y', linestyle='--', alpha=0.5)\n",
        "\n",
        "# Mostrar etiquetas arriba de cada barra\n",
        "for i, valor in enumerate(ingresos_millones):\n",
        "    plt.text(i, valor + 0.5, f\"${valor:.1f}M\", ha='center', fontsize=10)\n",
        "\n",
        "plt.tight_layout()\n",
        "plt.show()"
      ]
    },
    {
      "cell_type": "markdown",
      "metadata": {
        "id": "2V_vcAPzWZmR"
      },
      "source": [
        "# 2. Ventas por categoría"
      ]
    },
    {
      "cell_type": "code",
      "execution_count": 21,
      "metadata": {
        "id": "A34YupIuYhfF"
      },
      "outputs": [
        {
          "name": "stdout",
          "output_type": "stream",
          "text": [
            "\n",
            "Tienda 1:_________________\n",
            "    Categoría del Producto  cantidad\n",
            "0                  Muebles       465\n",
            "1             Electrónicos       448\n",
            "2                 Juguetes       324\n",
            "3        Electrodomésticos       312\n",
            "4     Deportes y diversión       284\n",
            "5   Instrumentos musicales       182\n",
            "6                   Libros       173\n",
            "7  Artículos para el hogar       171\n",
            "\n",
            "Tienda 2:_________________\n",
            "    Categoría del Producto  cantidad\n",
            "0                  Muebles       442\n",
            "1             Electrónicos       422\n",
            "2                 Juguetes       313\n",
            "3        Electrodomésticos       305\n",
            "4     Deportes y diversión       275\n",
            "5   Instrumentos musicales       224\n",
            "6                   Libros       197\n",
            "7  Artículos para el hogar       181\n",
            "\n",
            "Tienda 3:_________________\n",
            "    Categoría del Producto  cantidad\n",
            "0                  Muebles       499\n",
            "1             Electrónicos       451\n",
            "2                 Juguetes       315\n",
            "3        Electrodomésticos       278\n",
            "4     Deportes y diversión       277\n",
            "5                   Libros       185\n",
            "6   Instrumentos musicales       177\n",
            "7  Artículos para el hogar       177\n",
            "\n",
            "Tienda 4:_________________\n",
            "    Categoría del Producto  cantidad\n",
            "0                  Muebles       480\n",
            "1             Electrónicos       451\n",
            "2                 Juguetes       338\n",
            "3     Deportes y diversión       277\n",
            "4        Electrodomésticos       254\n",
            "5  Artículos para el hogar       201\n",
            "6                   Libros       187\n",
            "7   Instrumentos musicales       170\n"
          ]
        }
      ],
      "source": [
        "# En este debes calcular la cantidad de productos vendidos por categoría en cada \n",
        "# tienda. La idea es agrupar los datos por categoría y contar el número de\n",
        "# ventas de cada tipo, mostrando las categorías más populares de cada tienda.\n",
        "\n",
        "ENUM_PROD = []\n",
        "\n",
        "for nombre, datos in tiendas.items():\n",
        "    ENU_PRO = datos[\"Categoría del Producto\"].value_counts().reset_index(name=\"cantidad\")\n",
        "    NOMBRE_TIENDA.append(nombre)\n",
        "    ENUM_PROD.append(ENU_PRO)\n",
        "    print(f\"\\n{nombre}:_________________\\n{ENU_PRO}\")"
      ]
    },
    {
      "cell_type": "code",
      "execution_count": null,
      "metadata": {
        "id": "yZR6cOjXYSk1"
      },
      "outputs": [],
      "source": []
    },
    {
      "cell_type": "markdown",
      "metadata": {
        "id": "Rq6tU_xSY3jk"
      },
      "source": [
        "# 3. Calificación promedio de la tienda\n"
      ]
    },
    {
      "cell_type": "code",
      "execution_count": 5,
      "metadata": {
        "id": "bh3jjjJwY5MU"
      },
      "outputs": [
        {
          "name": "stdout",
          "output_type": "stream",
          "text": [
            "CALIFICACIONES:\n",
            "TIENDA 1: 3.977/5.0 \n",
            "TIENDA 2: 4.037/5.0 \n",
            "TIENDA 3: 4.048/5.0\n",
            "TIENDA 4: 3.996/5.0\n"
          ]
        }
      ],
      "source": [
        "# En este paso, debes calcular las calificaciones promedio de los clientes \n",
        "# para cada tienda. El objetivo es conocer la satisfacción del cliente con \n",
        "# los productos vendidos.\n",
        "\n",
        "CAL_PROMEDIO_T1 = sum(tienda[\"Calificación\"]) / len(tienda[\"Calificación\"])\n",
        "CAL_PROMEDIO_T2 = sum(tienda2[\"Calificación\"]) / len(tienda2[\"Calificación\"])\n",
        "CAL_PROMEDIO_T3 = sum(tienda3[\"Calificación\"]) / len(tienda3[\"Calificación\"])\n",
        "CAL_PROMEDIO_T4 = sum(tienda4[\"Calificación\"]) / len(tienda4[\"Calificación\"])\n",
        "\n",
        "print(f\"\"\"CALIFICACIONES:\n",
        "TIENDA 1: {\"{0:.3f}\".format(CAL_PROMEDIO_T1)}/5.0 \n",
        "TIENDA 2: {\"{0:.3f}\".format(CAL_PROMEDIO_T2)}/5.0 \n",
        "TIENDA 3: {\"{0:.3f}\".format(CAL_PROMEDIO_T3)}/5.0\n",
        "TIENDA 4: {\"{0:.3f}\".format(CAL_PROMEDIO_T4)}/5.0\"\"\" )"
      ]
    },
    {
      "cell_type": "code",
      "execution_count": null,
      "metadata": {
        "id": "I0KkjPoTY88F"
      },
      "outputs": [],
      "source": []
    },
    {
      "cell_type": "markdown",
      "metadata": {
        "id": "DmNp1KPBZCm-"
      },
      "source": [
        "# 4. Productos más y menos vendidos"
      ]
    },
    {
      "cell_type": "code",
      "execution_count": null,
      "metadata": {
        "id": "qoyjqijQZHfF"
      },
      "outputs": [],
      "source": [
        "# En este paso, debes identificar qué productos fueron los más vendidos y \n",
        "# los menos vendidos en cada tienda. Visualiza los resultados para que quede \n",
        "# claro qué productos destacaron en ventas en cada tienda.\n",
        "\n",
        "for nombre, datos in tiendas.items():\n",
        "    conteo = datos[\"Producto\"].value_counts()\n",
        "    \n",
        "    mas_vendido = conteo.index[0]\n",
        "    cantidad_mas = conteo.iloc[0]\n",
        "    \n",
        "    menos_vendido = conteo.index[-1]\n",
        "    cantidad_menos = conteo.iloc[-1]\n",
        "    \n",
        "    print(f\"\"\"{nombre}:\n",
        "Más vendido: {mas_vendido} ({cantidad_mas} ventas)\n",
        "Menos vendido: {menos_vendido} ({cantidad_menos} ventas)\n",
        "\"\"\")"
      ]
    },
    {
      "cell_type": "code",
      "execution_count": 7,
      "metadata": {
        "id": "0Sw3sd4IZIGW"
      },
      "outputs": [
        {
          "name": "stdout",
          "output_type": "stream",
          "text": [
            "                       Producto  cantidad\n",
            "0                 TV LED UHD 4K        60\n",
            "1                       Armario        60\n",
            "2                    Microondas        60\n",
            "3              Secadora de ropa        58\n",
            "4       Bloques de construcción        56\n",
            "5                 Mesa de noche        56\n",
            "6           Balón de baloncesto        55\n",
            "7                  Vaso térmico        54\n",
            "8                     Impresora        54\n",
            "9                     Bicicleta        54\n",
            "10                 Refrigerador        54\n",
            "11                      Batería        53\n",
            "12                   Cubertería        52\n",
            "13    Carrito de control remoto        52\n",
            "14          Modelado predictivo        51\n",
            "15                  Auriculares        50\n",
            "16                    Iphone 15        49\n",
            "17            Ajedrez de madera        49\n",
            "18                 Lavavajillas        48\n",
            "19             Lavadora de ropa        47\n",
            "20           Guitarra eléctrica        47\n",
            "21            Guitarra acústica        46\n",
            "22              Sofá reclinable        46\n",
            "23             Silla de oficina        46\n",
            "24                       Estufa        45\n",
            "25                Kit de bancas        44\n",
            "26                     Cama box        44\n",
            "27              Cubo mágico 8x8        44\n",
            "28               Mesa de centro        44\n",
            "29                    Cama king        44\n",
            "30                     Smart TV        44\n",
            "31                 Set de ollas        43\n",
            "32                   Smartwatch        43\n",
            "33                Juego de mesa        43\n",
            "34      Dashboards con Power BI        42\n",
            "35                  Tablet ABXY        42\n",
            "36            Balón de voleibol        42\n",
            "37                 Set de vasos        41\n",
            "38    Iniciando en programación        41\n",
            "39                       Sillón        41\n",
            "40            Asistente virtual        40\n",
            "41               Dinosaurio Rex        40\n",
            "42              Mesa de comedor        40\n",
            "43           Cuerda para saltar        40\n",
            "44                  Muñeca bebé        40\n",
            "45                      Mochila        39\n",
            "46  Ciencia de datos con Python        39\n",
            "47                    Pandereta        36\n",
            "48              Olla de presión        35\n",
            "49    Auriculares con micrófono        33\n",
            "50                 Celular ABXY        33\n"
          ]
        }
      ],
      "source": [
        "# para comprobar\n",
        "PRUEBA_T1 = tienda[\"Producto\"].value_counts().reset_index(name=\"cantidad\")\n",
        "print(PRUEBA_T1)"
      ]
    },
    {
      "cell_type": "markdown",
      "metadata": {
        "id": "Fl0cGi3bZKqU"
      },
      "source": [
        "# 5. Envío promedio por tienda"
      ]
    },
    {
      "cell_type": "code",
      "execution_count": null,
      "metadata": {
        "id": "S2JeaCykZNy9"
      },
      "outputs": [],
      "source": [
        "# En este paso, debes calcular el costo de envío promedio para cada tienda.\n",
        "# El objetivo es comprender cuánto se gasta, en promedio, en el envío de \n",
        "# cada tienda.\n",
        "\n",
        "for nombre, datos in tiendas.items():\n",
        "    costo_envio_promedio = datos[\"Costo de envío\"].mean()\n",
        "    print(f\"{nombre}: ${costo_envio_promedio:.2f}\")"
      ]
    },
    {
      "cell_type": "code",
      "execution_count": null,
      "metadata": {
        "id": "0tSdCie9ZQlt"
      },
      "outputs": [],
      "source": []
    }
  ],
  "metadata": {
    "colab": {
      "provenance": []
    },
    "kernelspec": {
      "display_name": "Python 3",
      "name": "python3"
    },
    "language_info": {
      "codemirror_mode": {
        "name": "ipython",
        "version": 3
      },
      "file_extension": ".py",
      "mimetype": "text/x-python",
      "name": "python",
      "nbconvert_exporter": "python",
      "pygments_lexer": "ipython3",
      "version": "3.12.6"
    }
  },
  "nbformat": 4,
  "nbformat_minor": 0
}
